{
 "cells": [
  {
   "cell_type": "code",
   "execution_count": 1,
   "metadata": {},
   "outputs": [
    {
     "name": "stdout",
     "output_type": "stream",
     "text": [
      "/Users/kimyoungh/GoogleDrive/singlemolt/main/singlemolt\n"
     ]
    }
   ],
   "source": [
    "cd .."
   ]
  },
  {
   "cell_type": "code",
   "execution_count": 2,
   "metadata": {},
   "outputs": [],
   "source": [
    "from collections import defaultdict\n",
    "import numpy as np\n",
    "import pandas as pd\n",
    "\n",
    "from kingsman.data_processor import OHLCVDataProcessor, StrategyProcessor"
   ]
  },
  {
   "cell_type": "code",
   "execution_count": 3,
   "metadata": {},
   "outputs": [],
   "source": [
    "# Input data\n",
    "k200 = pd.read_csv('raw_data/k200.csv', header=0, index_col=0)\n",
    "kq = pd.read_csv('raw_data/kq.csv', header=0, index_col=0)\n",
    "\n",
    "k200.index = k200.index.astype(str)\n",
    "kq.index = kq.index.astype(str)\n",
    "\n",
    "ohlcv_data = defaultdict(pd.DataFrame)\n",
    "\n",
    "ohlcv_data['K200'] = k200\n",
    "ohlcv_data['KQ'] = kq\n",
    "\n",
    "dp = OHLCVDataProcessor(ohlcv_data, translate_cols=True)\n",
    "\n",
    "features, dates = dp.calc_feature_data()\n",
    "\n",
    "# Return을 고려한 마지막 일자 제거\n",
    "features = features[:, :-1]\n",
    "dates = dates[:-1]\n",
    "\n",
    "returns = dp.calc_returns()\n",
    "returns = returns.loc[dates]"
   ]
  },
  {
   "cell_type": "code",
   "execution_count": 4,
   "metadata": {},
   "outputs": [],
   "source": [
    "returns['K200_i'] = -returns['K200']\n",
    "returns['KQ_i'] = -returns['KQ']"
   ]
  },
  {
   "cell_type": "code",
   "execution_count": 5,
   "metadata": {},
   "outputs": [],
   "source": [
    "# Output data\n",
    "st_weights = defaultdict(pd.DataFrame)\n",
    "strategies = defaultdict(np.array)\n",
    "\n",
    "strategies['k200'] = np.array([1., 0., 0., 0.])\n",
    "strategies['kq'] = np.array([0., 1., 0., 0.])\n",
    "strategies['k200_i'] = np.array([0., 0., 1., 0.])\n",
    "strategies['kq_i'] = np.array([0., 0., 0., 1.])\n",
    "strategies['k200-kq'] = np.array([0.5, 0., 0., 0.5])\n",
    "strategies['kq-k200'] = np.array([0., 0.5, 0.5, 0.])\n",
    "\n",
    "for key, value in strategies.items():\n",
    "    w = pd.DataFrame(value.reshape(1, -1).repeat(returns.shape[0], 0),\n",
    "                    index=returns.index, columns=returns.columns)\n",
    "\n",
    "    st_weights[key] = w\n",
    "\n",
    "stproc = StrategyProcessor(returns, st_weights, initial_t=0)\n",
    "\n",
    "max_st, pos_list = stproc.calc_daily_best_strategies(mode='max')\n",
    "min_st, pos_list = stproc.calc_daily_best_strategies(mode='min')\n",
    "\n",
    "max_series, time_pos =\\\n",
    "    stproc.calc_daily_best_strategies_rebalanced(mode='max')\n",
    "min_series, time_pos =\\\n",
    "    stproc.calc_daily_best_strategies_rebalanced(mode='min')"
   ]
  },
  {
   "cell_type": "code",
   "execution_count": 10,
   "metadata": {},
   "outputs": [
    {
     "name": "stdout",
     "output_type": "stream",
     "text": [
      "(2, 4998, 20)\n",
      "(4998,)\n",
      "(4998, 4)\n",
      "(4998,)\n",
      "(4998,)\n",
      "(4998,)\n",
      "(4997, 6, 2)\n",
      "(4997, 6, 2)\n",
      "(4997, 6, 2)\n"
     ]
    }
   ],
   "source": [
    "print(features.shape)\n",
    "print(dates.shape)\n",
    "print(returns.shape)\n",
    "print(max_st.shape)\n",
    "print(min_st.shape)\n",
    "print(pos_list.shape)\n",
    "print(max_series.shape)\n",
    "print(min_series.shape)\n",
    "print(time_pos.shape)"
   ]
  },
  {
   "cell_type": "code",
   "execution_count": 13,
   "metadata": {},
   "outputs": [],
   "source": [
    "np.save('train_data/features.npy', features, allow_pickle=True)\n",
    "np.save('train_data/dates.npy', dates, allow_pickle=True)\n",
    "returns.to_csv('train_data/returns.csv')\n",
    "np.save('train_data/max_st_series.npy', max_st, allow_pickle=True)\n",
    "np.save('train_data/min_st_series.npy', min_st, allow_pickle=True)\n",
    "np.save('train_data/best_pos_series.npy', pos_list, allow_pickle=True)\n",
    "np.save('train_data/max_rebal_series.npy', max_series, allow_pickle=True)\n",
    "np.save('train_data/min_rebal_series.npy', min_series, allow_pickle=True)\n",
    "np.save('train_data/rebal_pos_series.npy', time_pos, allow_pickle=True)"
   ]
  },
  {
   "cell_type": "code",
   "execution_count": null,
   "metadata": {},
   "outputs": [],
   "source": []
  }
 ],
 "metadata": {
  "interpreter": {
   "hash": "5b193160d7cc1e01522e5642bc36993162f6c79445953eacfe5d439a85308880"
  },
  "kernelspec": {
   "display_name": "Python 3.8.12",
   "language": "python",
   "name": "python3"
  },
  "language_info": {
   "codemirror_mode": {
    "name": "ipython",
    "version": 3
   },
   "file_extension": ".py",
   "mimetype": "text/x-python",
   "name": "python",
   "nbconvert_exporter": "python",
   "pygments_lexer": "ipython3",
   "version": "3.8.12"
  },
  "orig_nbformat": 4
 },
 "nbformat": 4,
 "nbformat_minor": 2
}

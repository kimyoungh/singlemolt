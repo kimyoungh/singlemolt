{
 "cells": [
  {
   "cell_type": "code",
   "execution_count": 1,
   "metadata": {},
   "outputs": [],
   "source": [
    "import numpy as np\n",
    "import pandas as pd\n",
    "\n",
    "import torch\n",
    "import torch.nn as nn\n",
    "\n",
    "import pyupbit"
   ]
  },
  {
   "cell_type": "code",
   "execution_count": 2,
   "metadata": {},
   "outputs": [],
   "source": [
    "price = pd.read_csv('../raw_data/price_2021-12-18.csv', header=0, index_col=0)\n",
    "mktcap = pd.read_csv('../raw_data/mktcap_2021-12-18.csv', header=0, index_col=0)\n",
    "turnover = pd.read_csv('../raw_data/turnover_2021-12-18.csv', header=0, index_col=0)"
   ]
  },
  {
   "cell_type": "code",
   "execution_count": 3,
   "metadata": {},
   "outputs": [
    {
     "name": "stdout",
     "output_type": "stream",
     "text": [
      "            A005930   A000660  A035420  ...  A033780  A069500  A229200\n",
      "1997-11-15    795.0  254993.0      NaN  ...      NaN      NaN      NaN\n",
      "1997-11-17    754.0  246842.0      NaN  ...      NaN      NaN      NaN\n",
      "1997-11-18    756.0  254993.0      NaN  ...      NaN      NaN      NaN\n",
      "1997-11-19    768.0  257321.0      NaN  ...      NaN      NaN      NaN\n",
      "1997-11-20    738.0  267801.0      NaN  ...      NaN      NaN      NaN\n",
      "\n",
      "[5 rows x 27 columns]\n",
      "                 A005930       A000660  A035420  ...  A033780  A069500  A229200\n",
      "1997-11-15  4.183569e+12  1.226261e+12      NaN  ...      NaN      NaN      NaN\n",
      "1997-11-17  3.967813e+12  1.187063e+12      NaN  ...      NaN      NaN      NaN\n",
      "1997-11-18  3.978338e+12  1.226261e+12      NaN  ...      NaN      NaN      NaN\n",
      "1997-11-19  4.041486e+12  1.237456e+12      NaN  ...      NaN      NaN      NaN\n",
      "1997-11-20  3.883615e+12  1.287855e+12      NaN  ...      NaN      NaN      NaN\n",
      "\n",
      "[5 rows x 27 columns]\n",
      "                 A005930       A000660  A035420  ...  A033780  A069500  A229200\n",
      "1997-11-15  1.084900e+10  1.890000e+09      NaN  ...      NaN      NaN      NaN\n",
      "1997-11-17  9.976000e+09  2.502000e+09      NaN  ...      NaN      NaN      NaN\n",
      "1997-11-18  1.524600e+10  1.024200e+10      NaN  ...      NaN      NaN      NaN\n",
      "1997-11-19  1.545300e+10  2.033000e+09      NaN  ...      NaN      NaN      NaN\n",
      "1997-11-20  2.026500e+10  2.987000e+09      NaN  ...      NaN      NaN      NaN\n",
      "\n",
      "[5 rows x 27 columns]\n"
     ]
    }
   ],
   "source": [
    "print(price.head())\n",
    "print(mktcap.head())\n",
    "print(turnover.head())"
   ]
  },
  {
   "cell_type": "code",
   "execution_count": 4,
   "metadata": {},
   "outputs": [
    {
     "data": {
      "text/plain": [
       "795.0"
      ]
     },
     "execution_count": 4,
     "metadata": {},
     "output_type": "execute_result"
    }
   ],
   "source": [
    "price['A005930'].iloc[0]"
   ]
  },
  {
   "cell_type": "code",
   "execution_count": 5,
   "metadata": {},
   "outputs": [
    {
     "data": {
      "text/html": [
       "<div>\n",
       "<style scoped>\n",
       "    .dataframe tbody tr th:only-of-type {\n",
       "        vertical-align: middle;\n",
       "    }\n",
       "\n",
       "    .dataframe tbody tr th {\n",
       "        vertical-align: top;\n",
       "    }\n",
       "\n",
       "    .dataframe thead th {\n",
       "        text-align: right;\n",
       "    }\n",
       "</style>\n",
       "<table border=\"1\" class=\"dataframe\">\n",
       "  <thead>\n",
       "    <tr style=\"text-align: right;\">\n",
       "      <th></th>\n",
       "      <th>open</th>\n",
       "      <th>high</th>\n",
       "      <th>low</th>\n",
       "      <th>close</th>\n",
       "      <th>volume</th>\n",
       "      <th>value</th>\n",
       "    </tr>\n",
       "  </thead>\n",
       "  <tbody>\n",
       "    <tr>\n",
       "      <th>2022-04-09 05:34:00</th>\n",
       "      <td>53458000.0</td>\n",
       "      <td>53573000.0</td>\n",
       "      <td>53432000.0</td>\n",
       "      <td>53552000.0</td>\n",
       "      <td>1.478036</td>\n",
       "      <td>7.908658e+07</td>\n",
       "    </tr>\n",
       "    <tr>\n",
       "      <th>2022-04-09 05:35:00</th>\n",
       "      <td>53527000.0</td>\n",
       "      <td>53552000.0</td>\n",
       "      <td>53499000.0</td>\n",
       "      <td>53527000.0</td>\n",
       "      <td>0.428344</td>\n",
       "      <td>2.292101e+07</td>\n",
       "    </tr>\n",
       "    <tr>\n",
       "      <th>2022-04-09 05:36:00</th>\n",
       "      <td>53527000.0</td>\n",
       "      <td>53530000.0</td>\n",
       "      <td>53527000.0</td>\n",
       "      <td>53530000.0</td>\n",
       "      <td>0.143334</td>\n",
       "      <td>7.672467e+06</td>\n",
       "    </tr>\n",
       "    <tr>\n",
       "      <th>2022-04-09 05:37:00</th>\n",
       "      <td>53530000.0</td>\n",
       "      <td>53530000.0</td>\n",
       "      <td>53527000.0</td>\n",
       "      <td>53530000.0</td>\n",
       "      <td>0.220806</td>\n",
       "      <td>1.181927e+07</td>\n",
       "    </tr>\n",
       "    <tr>\n",
       "      <th>2022-04-09 05:38:00</th>\n",
       "      <td>53526000.0</td>\n",
       "      <td>53550000.0</td>\n",
       "      <td>53526000.0</td>\n",
       "      <td>53550000.0</td>\n",
       "      <td>0.047832</td>\n",
       "      <td>2.560942e+06</td>\n",
       "    </tr>\n",
       "    <tr>\n",
       "      <th>...</th>\n",
       "      <td>...</td>\n",
       "      <td>...</td>\n",
       "      <td>...</td>\n",
       "      <td>...</td>\n",
       "      <td>...</td>\n",
       "      <td>...</td>\n",
       "    </tr>\n",
       "    <tr>\n",
       "      <th>2022-04-09 22:09:00</th>\n",
       "      <td>53034000.0</td>\n",
       "      <td>53035000.0</td>\n",
       "      <td>53030000.0</td>\n",
       "      <td>53030000.0</td>\n",
       "      <td>0.393527</td>\n",
       "      <td>2.086971e+07</td>\n",
       "    </tr>\n",
       "    <tr>\n",
       "      <th>2022-04-09 22:10:00</th>\n",
       "      <td>53032000.0</td>\n",
       "      <td>53032000.0</td>\n",
       "      <td>53001000.0</td>\n",
       "      <td>53024000.0</td>\n",
       "      <td>0.577224</td>\n",
       "      <td>3.060493e+07</td>\n",
       "    </tr>\n",
       "    <tr>\n",
       "      <th>2022-04-09 22:11:00</th>\n",
       "      <td>53024000.0</td>\n",
       "      <td>53024000.0</td>\n",
       "      <td>53005000.0</td>\n",
       "      <td>53005000.0</td>\n",
       "      <td>1.277001</td>\n",
       "      <td>6.769624e+07</td>\n",
       "    </tr>\n",
       "    <tr>\n",
       "      <th>2022-04-09 22:12:00</th>\n",
       "      <td>53005000.0</td>\n",
       "      <td>53023000.0</td>\n",
       "      <td>53005000.0</td>\n",
       "      <td>53023000.0</td>\n",
       "      <td>0.915928</td>\n",
       "      <td>4.856324e+07</td>\n",
       "    </tr>\n",
       "    <tr>\n",
       "      <th>2022-04-09 22:13:00</th>\n",
       "      <td>53023000.0</td>\n",
       "      <td>53072000.0</td>\n",
       "      <td>53000000.0</td>\n",
       "      <td>53001000.0</td>\n",
       "      <td>2.875052</td>\n",
       "      <td>1.524257e+08</td>\n",
       "    </tr>\n",
       "  </tbody>\n",
       "</table>\n",
       "<p>1000 rows × 6 columns</p>\n",
       "</div>"
      ],
      "text/plain": [
       "                           open        high  ...    volume         value\n",
       "2022-04-09 05:34:00  53458000.0  53573000.0  ...  1.478036  7.908658e+07\n",
       "2022-04-09 05:35:00  53527000.0  53552000.0  ...  0.428344  2.292101e+07\n",
       "2022-04-09 05:36:00  53527000.0  53530000.0  ...  0.143334  7.672467e+06\n",
       "2022-04-09 05:37:00  53530000.0  53530000.0  ...  0.220806  1.181927e+07\n",
       "2022-04-09 05:38:00  53526000.0  53550000.0  ...  0.047832  2.560942e+06\n",
       "...                         ...         ...  ...       ...           ...\n",
       "2022-04-09 22:09:00  53034000.0  53035000.0  ...  0.393527  2.086971e+07\n",
       "2022-04-09 22:10:00  53032000.0  53032000.0  ...  0.577224  3.060493e+07\n",
       "2022-04-09 22:11:00  53024000.0  53024000.0  ...  1.277001  6.769624e+07\n",
       "2022-04-09 22:12:00  53005000.0  53023000.0  ...  0.915928  4.856324e+07\n",
       "2022-04-09 22:13:00  53023000.0  53072000.0  ...  2.875052  1.524257e+08\n",
       "\n",
       "[1000 rows x 6 columns]"
      ]
     },
     "execution_count": 5,
     "metadata": {},
     "output_type": "execute_result"
    }
   ],
   "source": [
    "pyupbit.get_ohlcv('KRW-BTC', 'minute1', 1000)"
   ]
  },
  {
   "cell_type": "code",
   "execution_count": 6,
   "metadata": {},
   "outputs": [],
   "source": [
    "k200 = pd.read_csv(\"../raw_data/k200.csv\", header=0, index_col=0)\n",
    "kq = pd.read_csv(\"../raw_data/kq.csv\", header=0, index_col=0)"
   ]
  },
  {
   "cell_type": "code",
   "execution_count": 7,
   "metadata": {},
   "outputs": [],
   "source": [
    "k200 = k200.values\n",
    "kq = kq.values"
   ]
  },
  {
   "cell_type": "code",
   "execution_count": 8,
   "metadata": {},
   "outputs": [
    {
     "data": {
      "text/plain": [
       "(5000, 6)"
      ]
     },
     "execution_count": 8,
     "metadata": {},
     "output_type": "execute_result"
    }
   ],
   "source": [
    "k200.shape"
   ]
  },
  {
   "cell_type": "code",
   "execution_count": 9,
   "metadata": {},
   "outputs": [],
   "source": [
    "k200 = k200.reshape(-1, 1, 6)\n",
    "kq = kq.reshape(-1, 1, 6)\n",
    "values = np.concatenate((k200, kq), axis=1)"
   ]
  },
  {
   "cell_type": "code",
   "execution_count": 10,
   "metadata": {},
   "outputs": [
    {
     "data": {
      "text/plain": [
       "(5000, 2, 6)"
      ]
     },
     "execution_count": 10,
     "metadata": {},
     "output_type": "execute_result"
    }
   ],
   "source": [
    "values.shape"
   ]
  },
  {
   "cell_type": "code",
   "execution_count": 11,
   "metadata": {},
   "outputs": [
    {
     "data": {
      "text/plain": [
       "array([[[8.99300003e+01, 9.06900024e+01, 8.89899979e+01, 8.89899979e+01,\n",
       "         3.89746200e+08, 2.53390500e+12]],\n",
       "\n",
       "       [[8.80199966e+01, 8.96500015e+01, 8.73700027e+01, 8.92699966e+01,\n",
       "         5.54645100e+08, 3.14184500e+12]],\n",
       "\n",
       "       [[8.91800003e+01, 8.99000015e+01, 8.81900024e+01, 8.86299973e+01,\n",
       "         3.91938000e+08, 2.62023300e+12]],\n",
       "\n",
       "       ...,\n",
       "\n",
       "       [[3.62040009e+02, 3.62959991e+02, 3.60519989e+02, 3.61010010e+02,\n",
       "         1.76510200e+08, 6.51278600e+12]],\n",
       "\n",
       "       [[3.58429993e+02, 3.58920013e+02, 3.55369995e+02, 3.55730011e+02,\n",
       "         1.93937400e+08, 7.70497200e+12]],\n",
       "\n",
       "       [[3.56859985e+02, 3.57619995e+02, 3.54269989e+02, 3.56010010e+02,\n",
       "         1.66111900e+08, 6.73753100e+12]]])"
      ]
     },
     "execution_count": 11,
     "metadata": {},
     "output_type": "execute_result"
    }
   ],
   "source": [
    "k200"
   ]
  },
  {
   "cell_type": "code",
   "execution_count": 12,
   "metadata": {},
   "outputs": [],
   "source": [
    "values = np.concatenate((values, values), axis=-1)"
   ]
  },
  {
   "cell_type": "code",
   "execution_count": 13,
   "metadata": {},
   "outputs": [
    {
     "data": {
      "text/plain": [
       "array([8.99300003e+01, 9.06900024e+01, 8.89899979e+01, 8.89899979e+01,\n",
       "       3.89746200e+08, 2.53390500e+12, 8.99300003e+01, 9.06900024e+01,\n",
       "       8.89899979e+01, 8.89899979e+01, 3.89746200e+08, 2.53390500e+12])"
      ]
     },
     "execution_count": 13,
     "metadata": {},
     "output_type": "execute_result"
    }
   ],
   "source": [
    "values[0, 0]"
   ]
  },
  {
   "cell_type": "code",
   "execution_count": 33,
   "metadata": {},
   "outputs": [],
   "source": [
    "inputs = torch.tensor([[0.9, 0.1], [0.1, 0.9]])\n",
    "targets = torch.tensor([[0.1, 0.9], [0.1, 0.9]])"
   ]
  },
  {
   "cell_type": "code",
   "execution_count": 34,
   "metadata": {},
   "outputs": [],
   "source": [
    "kld = nn.KLDivLoss(reduction='batchmean', log_target=False)"
   ]
  },
  {
   "cell_type": "code",
   "execution_count": 35,
   "metadata": {},
   "outputs": [
    {
     "data": {
      "text/plain": [
       "tensor(0.8789)"
      ]
     },
     "execution_count": 35,
     "metadata": {},
     "output_type": "execute_result"
    }
   ],
   "source": [
    "kld(torch.log(inputs), targets)"
   ]
  },
  {
   "cell_type": "code",
   "execution_count": null,
   "metadata": {},
   "outputs": [],
   "source": []
  }
 ],
 "metadata": {
  "interpreter": {
   "hash": "5b193160d7cc1e01522e5642bc36993162f6c79445953eacfe5d439a85308880"
  },
  "kernelspec": {
   "display_name": "Python 3.8.12 ('pytorch_m1')",
   "language": "python",
   "name": "python3"
  },
  "language_info": {
   "codemirror_mode": {
    "name": "ipython",
    "version": 3
   },
   "file_extension": ".py",
   "mimetype": "text/x-python",
   "name": "python",
   "nbconvert_exporter": "python",
   "pygments_lexer": "ipython3",
   "version": "3.8.12"
  },
  "orig_nbformat": 4
 },
 "nbformat": 4,
 "nbformat_minor": 2
}

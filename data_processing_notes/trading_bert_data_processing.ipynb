{
 "cells": [
  {
   "cell_type": "code",
   "execution_count": 1,
   "metadata": {},
   "outputs": [
    {
     "name": "stdout",
     "output_type": "stream",
     "text": [
      "/Users/kimyoungh/GoogleDrive/singlemolt/main/singlemolt\n"
     ]
    }
   ],
   "source": [
    "cd .."
   ]
  },
  {
   "cell_type": "code",
   "execution_count": 19,
   "metadata": {},
   "outputs": [],
   "source": [
    "import numpy as np\n",
    "import pandas as pd\n",
    "\n",
    "import torch\n",
    "\n",
    "import pyupbit\n",
    "\n",
    "from kingsman.knights import TradingBERT"
   ]
  },
  {
   "cell_type": "code",
   "execution_count": 3,
   "metadata": {},
   "outputs": [],
   "source": [
    "k200 = pd.read_csv('raw_data/k200.csv', header=0, index_col=0)\n",
    "kq = pd.read_csv('raw_data/kq.csv', header=0, index_col=0)"
   ]
  },
  {
   "cell_type": "code",
   "execution_count": 4,
   "metadata": {},
   "outputs": [
    {
     "data": {
      "text/html": [
       "<div>\n",
       "<style scoped>\n",
       "    .dataframe tbody tr th:only-of-type {\n",
       "        vertical-align: middle;\n",
       "    }\n",
       "\n",
       "    .dataframe tbody tr th {\n",
       "        vertical-align: top;\n",
       "    }\n",
       "\n",
       "    .dataframe thead th {\n",
       "        text-align: right;\n",
       "    }\n",
       "</style>\n",
       "<table border=\"1\" class=\"dataframe\">\n",
       "  <thead>\n",
       "    <tr style=\"text-align: right;\">\n",
       "      <th></th>\n",
       "      <th>시가</th>\n",
       "      <th>고가</th>\n",
       "      <th>저가</th>\n",
       "      <th>종가</th>\n",
       "      <th>거래량</th>\n",
       "      <th>거래대금</th>\n",
       "    </tr>\n",
       "    <tr>\n",
       "      <th>날짜</th>\n",
       "      <th></th>\n",
       "      <th></th>\n",
       "      <th></th>\n",
       "      <th></th>\n",
       "      <th></th>\n",
       "      <th></th>\n",
       "    </tr>\n",
       "  </thead>\n",
       "  <tbody>\n",
       "    <tr>\n",
       "      <th>20020116</th>\n",
       "      <td>89.930000</td>\n",
       "      <td>90.690002</td>\n",
       "      <td>88.989998</td>\n",
       "      <td>88.989998</td>\n",
       "      <td>389746200</td>\n",
       "      <td>2533905000000</td>\n",
       "    </tr>\n",
       "    <tr>\n",
       "      <th>20020117</th>\n",
       "      <td>88.019997</td>\n",
       "      <td>89.650002</td>\n",
       "      <td>87.370003</td>\n",
       "      <td>89.269997</td>\n",
       "      <td>554645100</td>\n",
       "      <td>3141845000000</td>\n",
       "    </tr>\n",
       "    <tr>\n",
       "      <th>20020118</th>\n",
       "      <td>89.180000</td>\n",
       "      <td>89.900002</td>\n",
       "      <td>88.190002</td>\n",
       "      <td>88.629997</td>\n",
       "      <td>391938000</td>\n",
       "      <td>2620233000000</td>\n",
       "    </tr>\n",
       "    <tr>\n",
       "      <th>20020121</th>\n",
       "      <td>88.129997</td>\n",
       "      <td>89.720001</td>\n",
       "      <td>87.629997</td>\n",
       "      <td>89.720001</td>\n",
       "      <td>360377600</td>\n",
       "      <td>2090446000000</td>\n",
       "    </tr>\n",
       "    <tr>\n",
       "      <th>20020122</th>\n",
       "      <td>90.250000</td>\n",
       "      <td>91.510002</td>\n",
       "      <td>89.709999</td>\n",
       "      <td>90.639999</td>\n",
       "      <td>520790500</td>\n",
       "      <td>2822430000000</td>\n",
       "    </tr>\n",
       "  </tbody>\n",
       "</table>\n",
       "</div>"
      ],
      "text/plain": [
       "                 시가         고가         저가         종가        거래량           거래대금\n",
       "날짜                                                                            \n",
       "20020116  89.930000  90.690002  88.989998  88.989998  389746200  2533905000000\n",
       "20020117  88.019997  89.650002  87.370003  89.269997  554645100  3141845000000\n",
       "20020118  89.180000  89.900002  88.190002  88.629997  391938000  2620233000000\n",
       "20020121  88.129997  89.720001  87.629997  89.720001  360377600  2090446000000\n",
       "20020122  90.250000  91.510002  89.709999  90.639999  520790500  2822430000000"
      ]
     },
     "execution_count": 4,
     "metadata": {},
     "output_type": "execute_result"
    }
   ],
   "source": [
    "k200.head()"
   ]
  },
  {
   "cell_type": "code",
   "execution_count": 5,
   "metadata": {},
   "outputs": [
    {
     "data": {
      "text/html": [
       "<div>\n",
       "<style scoped>\n",
       "    .dataframe tbody tr th:only-of-type {\n",
       "        vertical-align: middle;\n",
       "    }\n",
       "\n",
       "    .dataframe tbody tr th {\n",
       "        vertical-align: top;\n",
       "    }\n",
       "\n",
       "    .dataframe thead th {\n",
       "        text-align: right;\n",
       "    }\n",
       "</style>\n",
       "<table border=\"1\" class=\"dataframe\">\n",
       "  <thead>\n",
       "    <tr style=\"text-align: right;\">\n",
       "      <th></th>\n",
       "      <th>시가</th>\n",
       "      <th>고가</th>\n",
       "      <th>저가</th>\n",
       "      <th>종가</th>\n",
       "      <th>거래량</th>\n",
       "      <th>거래대금</th>\n",
       "    </tr>\n",
       "    <tr>\n",
       "      <th>날짜</th>\n",
       "      <th></th>\n",
       "      <th></th>\n",
       "      <th></th>\n",
       "      <th></th>\n",
       "      <th></th>\n",
       "      <th></th>\n",
       "    </tr>\n",
       "  </thead>\n",
       "  <tbody>\n",
       "    <tr>\n",
       "      <th>20020116</th>\n",
       "      <td>731.700012</td>\n",
       "      <td>737.200012</td>\n",
       "      <td>729.099976</td>\n",
       "      <td>729.099976</td>\n",
       "      <td>354250500</td>\n",
       "      <td>1468671000000</td>\n",
       "    </tr>\n",
       "    <tr>\n",
       "      <th>20020117</th>\n",
       "      <td>720.299988</td>\n",
       "      <td>722.900024</td>\n",
       "      <td>709.599976</td>\n",
       "      <td>722.900024</td>\n",
       "      <td>338091800</td>\n",
       "      <td>1318622000000</td>\n",
       "    </tr>\n",
       "    <tr>\n",
       "      <th>20020118</th>\n",
       "      <td>725.500000</td>\n",
       "      <td>729.599976</td>\n",
       "      <td>720.200012</td>\n",
       "      <td>720.200012</td>\n",
       "      <td>312220700</td>\n",
       "      <td>1260192000000</td>\n",
       "    </tr>\n",
       "    <tr>\n",
       "      <th>20020121</th>\n",
       "      <td>716.700012</td>\n",
       "      <td>730.700012</td>\n",
       "      <td>715.299988</td>\n",
       "      <td>729.900024</td>\n",
       "      <td>259710400</td>\n",
       "      <td>1014651000000</td>\n",
       "    </tr>\n",
       "    <tr>\n",
       "      <th>20020122</th>\n",
       "      <td>732.000000</td>\n",
       "      <td>743.900024</td>\n",
       "      <td>732.000000</td>\n",
       "      <td>739.299988</td>\n",
       "      <td>300212900</td>\n",
       "      <td>1272653000000</td>\n",
       "    </tr>\n",
       "  </tbody>\n",
       "</table>\n",
       "</div>"
      ],
      "text/plain": [
       "                  시가          고가          저가          종가        거래량  \\\n",
       "날짜                                                                    \n",
       "20020116  731.700012  737.200012  729.099976  729.099976  354250500   \n",
       "20020117  720.299988  722.900024  709.599976  722.900024  338091800   \n",
       "20020118  725.500000  729.599976  720.200012  720.200012  312220700   \n",
       "20020121  716.700012  730.700012  715.299988  729.900024  259710400   \n",
       "20020122  732.000000  743.900024  732.000000  739.299988  300212900   \n",
       "\n",
       "                   거래대금  \n",
       "날짜                       \n",
       "20020116  1468671000000  \n",
       "20020117  1318622000000  \n",
       "20020118  1260192000000  \n",
       "20020121  1014651000000  \n",
       "20020122  1272653000000  "
      ]
     },
     "execution_count": 5,
     "metadata": {},
     "output_type": "execute_result"
    }
   ],
   "source": [
    "kq.head()"
   ]
  },
  {
   "cell_type": "code",
   "execution_count": 18,
   "metadata": {},
   "outputs": [
    {
     "name": "stdout",
     "output_type": "stream",
     "text": [
      "(5000, 6)\n",
      "(5000, 6)\n"
     ]
    }
   ],
   "source": [
    "print(k200.shape)\n",
    "print(kq.shape)"
   ]
  },
  {
   "cell_type": "code",
   "execution_count": 6,
   "metadata": {},
   "outputs": [],
   "source": [
    "k200_v = k200.values.reshape(1, -1, 6)\n",
    "kq_v = kq.values.reshape(1, -1, 6)\n",
    "\n",
    "values = np.concatenate((k200_v, kq_v), axis=0)"
   ]
  },
  {
   "cell_type": "code",
   "execution_count": 7,
   "metadata": {},
   "outputs": [
    {
     "data": {
      "text/plain": [
       "(2, 5000, 6)"
      ]
     },
     "execution_count": 7,
     "metadata": {},
     "output_type": "execute_result"
    }
   ],
   "source": [
    "values.shape"
   ]
  },
  {
   "cell_type": "code",
   "execution_count": 8,
   "metadata": {},
   "outputs": [],
   "source": [
    "vdiff = values[:, 1:] - values[:, :-1]"
   ]
  },
  {
   "cell_type": "code",
   "execution_count": 9,
   "metadata": {},
   "outputs": [
    {
     "data": {
      "text/plain": [
       "array([[-1.91000366e+00, -1.04000092e+00, -1.61999512e+00,\n",
       "         2.79998779e-01,  1.64898900e+08,  6.07940000e+11],\n",
       "       [-1.14000244e+01, -1.42999878e+01, -1.95000000e+01,\n",
       "        -6.19995117e+00, -1.61587000e+07, -1.50049000e+11]])"
      ]
     },
     "execution_count": 9,
     "metadata": {},
     "output_type": "execute_result"
    }
   ],
   "source": [
    "vdiff[:, 0]"
   ]
  },
  {
   "cell_type": "code",
   "execution_count": 10,
   "metadata": {},
   "outputs": [
    {
     "data": {
      "text/plain": [
       "(2, 4999, 6)"
      ]
     },
     "execution_count": 10,
     "metadata": {},
     "output_type": "execute_result"
    }
   ],
   "source": [
    "vdiff.shape"
   ]
  },
  {
   "cell_type": "code",
   "execution_count": 11,
   "metadata": {},
   "outputs": [
    {
     "data": {
      "text/plain": [
       "array([[[ 4.4990316 ,  4.50744714,  4.48852399,  4.48852399,\n",
       "         19.78100632, 28.56078271],\n",
       "        [ 4.47756403,  4.49591323,  4.47015202,  4.49166546,\n",
       "         20.13383901, 28.77583132],\n",
       "        [ 4.49065681,  4.49869797,  4.47949362,  4.48447038,\n",
       "         19.78661422, 28.59428436],\n",
       "        ...,\n",
       "        [ 5.89175473,  5.89429261,  5.88754741,  5.88890569,\n",
       "         18.98888922, 29.50478844],\n",
       "        [ 5.88173337,  5.88309956,  5.87315949,  5.87417205,\n",
       "         19.08304598, 29.67288695],\n",
       "        [ 5.87734351,  5.87947096,  5.87005931,  5.87495885,\n",
       "         18.92817222, 29.53871465]],\n",
       "\n",
       "       [[ 6.59537061,  6.60285924,  6.59181086,  6.59181086,\n",
       "         19.68551485, 28.01537903],\n",
       "        [ 6.57966778,  6.58327094,  6.5647014 ,  6.58327094,\n",
       "         19.63882801, 27.90760837],\n",
       "        [ 6.58686107,  6.59249641,  6.57952897,  6.57952897,\n",
       "         19.55922087, 27.86228521],\n",
       "        ...,\n",
       "        [ 6.85041216,  6.85373192,  6.84568838,  6.84920414,\n",
       "         21.06386917, 29.82222404],\n",
       "        [ 6.84259788,  6.84259788,  6.83077701,  6.83297787,\n",
       "         20.89047731, 29.75164023],\n",
       "        [ 6.83731134,  6.84127353,  6.82950178,  6.8402577 ,\n",
       "         20.62507125, 29.60793992]]])"
      ]
     },
     "execution_count": 11,
     "metadata": {},
     "output_type": "execute_result"
    }
   ],
   "source": [
    "np.log(values + 1e-6)"
   ]
  },
  {
   "cell_type": "code",
   "execution_count": 12,
   "metadata": {},
   "outputs": [],
   "source": [
    "model = TradingBERT()"
   ]
  },
  {
   "cell_type": "code",
   "execution_count": 13,
   "metadata": {},
   "outputs": [],
   "source": [
    "assets_in = torch.randn(1, 1, 250, 24)"
   ]
  },
  {
   "cell_type": "code",
   "execution_count": 14,
   "metadata": {},
   "outputs": [],
   "source": [
    "outputs = model(assets_in)"
   ]
  },
  {
   "cell_type": "code",
   "execution_count": 16,
   "metadata": {},
   "outputs": [
    {
     "data": {
      "text/plain": [
       "torch.Size([1, 250, 16])"
      ]
     },
     "execution_count": 16,
     "metadata": {},
     "output_type": "execute_result"
    }
   ],
   "source": [
    "outputs.shape"
   ]
  },
  {
   "cell_type": "code",
   "execution_count": 17,
   "metadata": {},
   "outputs": [
    {
     "data": {
      "text/plain": [
       "(2, 5000, 6)"
      ]
     },
     "execution_count": 17,
     "metadata": {},
     "output_type": "execute_result"
    }
   ],
   "source": [
    "values.shape"
   ]
  },
  {
   "cell_type": "code",
   "execution_count": 21,
   "metadata": {},
   "outputs": [],
   "source": [
    "price = pyupbit.get_ohlcv('KRW-BTC', interval=\"minute1\", count=5000)"
   ]
  },
  {
   "cell_type": "code",
   "execution_count": 23,
   "metadata": {},
   "outputs": [
    {
     "data": {
      "text/html": [
       "<div>\n",
       "<style scoped>\n",
       "    .dataframe tbody tr th:only-of-type {\n",
       "        vertical-align: middle;\n",
       "    }\n",
       "\n",
       "    .dataframe tbody tr th {\n",
       "        vertical-align: top;\n",
       "    }\n",
       "\n",
       "    .dataframe thead th {\n",
       "        text-align: right;\n",
       "    }\n",
       "</style>\n",
       "<table border=\"1\" class=\"dataframe\">\n",
       "  <thead>\n",
       "    <tr style=\"text-align: right;\">\n",
       "      <th></th>\n",
       "      <th>open</th>\n",
       "      <th>high</th>\n",
       "      <th>low</th>\n",
       "      <th>close</th>\n",
       "      <th>volume</th>\n",
       "      <th>value</th>\n",
       "    </tr>\n",
       "  </thead>\n",
       "  <tbody>\n",
       "    <tr>\n",
       "      <th>2022-04-13 05:04:00</th>\n",
       "      <td>49883000.0</td>\n",
       "      <td>49887000.0</td>\n",
       "      <td>49882000.0</td>\n",
       "      <td>49884000.0</td>\n",
       "      <td>0.330421</td>\n",
       "      <td>1.648232e+07</td>\n",
       "    </tr>\n",
       "    <tr>\n",
       "      <th>2022-04-13 05:05:00</th>\n",
       "      <td>49884000.0</td>\n",
       "      <td>49958000.0</td>\n",
       "      <td>49882000.0</td>\n",
       "      <td>49958000.0</td>\n",
       "      <td>0.575564</td>\n",
       "      <td>2.871205e+07</td>\n",
       "    </tr>\n",
       "    <tr>\n",
       "      <th>2022-04-13 05:06:00</th>\n",
       "      <td>49904000.0</td>\n",
       "      <td>49957000.0</td>\n",
       "      <td>49885000.0</td>\n",
       "      <td>49920000.0</td>\n",
       "      <td>0.556879</td>\n",
       "      <td>2.781321e+07</td>\n",
       "    </tr>\n",
       "    <tr>\n",
       "      <th>2022-04-13 05:07:00</th>\n",
       "      <td>49913000.0</td>\n",
       "      <td>49955000.0</td>\n",
       "      <td>49913000.0</td>\n",
       "      <td>49914000.0</td>\n",
       "      <td>1.187963</td>\n",
       "      <td>5.929997e+07</td>\n",
       "    </tr>\n",
       "    <tr>\n",
       "      <th>2022-04-13 05:08:00</th>\n",
       "      <td>49914000.0</td>\n",
       "      <td>49946000.0</td>\n",
       "      <td>49914000.0</td>\n",
       "      <td>49914000.0</td>\n",
       "      <td>0.598809</td>\n",
       "      <td>2.988960e+07</td>\n",
       "    </tr>\n",
       "  </tbody>\n",
       "</table>\n",
       "</div>"
      ],
      "text/plain": [
       "                           open        high         low       close    volume  \\\n",
       "2022-04-13 05:04:00  49883000.0  49887000.0  49882000.0  49884000.0  0.330421   \n",
       "2022-04-13 05:05:00  49884000.0  49958000.0  49882000.0  49958000.0  0.575564   \n",
       "2022-04-13 05:06:00  49904000.0  49957000.0  49885000.0  49920000.0  0.556879   \n",
       "2022-04-13 05:07:00  49913000.0  49955000.0  49913000.0  49914000.0  1.187963   \n",
       "2022-04-13 05:08:00  49914000.0  49946000.0  49914000.0  49914000.0  0.598809   \n",
       "\n",
       "                            value  \n",
       "2022-04-13 05:04:00  1.648232e+07  \n",
       "2022-04-13 05:05:00  2.871205e+07  \n",
       "2022-04-13 05:06:00  2.781321e+07  \n",
       "2022-04-13 05:07:00  5.929997e+07  \n",
       "2022-04-13 05:08:00  2.988960e+07  "
      ]
     },
     "execution_count": 23,
     "metadata": {},
     "output_type": "execute_result"
    }
   ],
   "source": [
    "price.head()"
   ]
  },
  {
   "cell_type": "code",
   "execution_count": 24,
   "metadata": {},
   "outputs": [
    {
     "data": {
      "text/html": [
       "<div>\n",
       "<style scoped>\n",
       "    .dataframe tbody tr th:only-of-type {\n",
       "        vertical-align: middle;\n",
       "    }\n",
       "\n",
       "    .dataframe tbody tr th {\n",
       "        vertical-align: top;\n",
       "    }\n",
       "\n",
       "    .dataframe thead th {\n",
       "        text-align: right;\n",
       "    }\n",
       "</style>\n",
       "<table border=\"1\" class=\"dataframe\">\n",
       "  <thead>\n",
       "    <tr style=\"text-align: right;\">\n",
       "      <th></th>\n",
       "      <th>시가</th>\n",
       "      <th>고가</th>\n",
       "      <th>저가</th>\n",
       "      <th>종가</th>\n",
       "      <th>거래량</th>\n",
       "      <th>거래대금</th>\n",
       "    </tr>\n",
       "    <tr>\n",
       "      <th>날짜</th>\n",
       "      <th></th>\n",
       "      <th></th>\n",
       "      <th></th>\n",
       "      <th></th>\n",
       "      <th></th>\n",
       "      <th></th>\n",
       "    </tr>\n",
       "  </thead>\n",
       "  <tbody>\n",
       "    <tr>\n",
       "      <th>20020116</th>\n",
       "      <td>89.930000</td>\n",
       "      <td>90.690002</td>\n",
       "      <td>88.989998</td>\n",
       "      <td>88.989998</td>\n",
       "      <td>389746200</td>\n",
       "      <td>2533905000000</td>\n",
       "    </tr>\n",
       "    <tr>\n",
       "      <th>20020117</th>\n",
       "      <td>88.019997</td>\n",
       "      <td>89.650002</td>\n",
       "      <td>87.370003</td>\n",
       "      <td>89.269997</td>\n",
       "      <td>554645100</td>\n",
       "      <td>3141845000000</td>\n",
       "    </tr>\n",
       "    <tr>\n",
       "      <th>20020118</th>\n",
       "      <td>89.180000</td>\n",
       "      <td>89.900002</td>\n",
       "      <td>88.190002</td>\n",
       "      <td>88.629997</td>\n",
       "      <td>391938000</td>\n",
       "      <td>2620233000000</td>\n",
       "    </tr>\n",
       "    <tr>\n",
       "      <th>20020121</th>\n",
       "      <td>88.129997</td>\n",
       "      <td>89.720001</td>\n",
       "      <td>87.629997</td>\n",
       "      <td>89.720001</td>\n",
       "      <td>360377600</td>\n",
       "      <td>2090446000000</td>\n",
       "    </tr>\n",
       "    <tr>\n",
       "      <th>20020122</th>\n",
       "      <td>90.250000</td>\n",
       "      <td>91.510002</td>\n",
       "      <td>89.709999</td>\n",
       "      <td>90.639999</td>\n",
       "      <td>520790500</td>\n",
       "      <td>2822430000000</td>\n",
       "    </tr>\n",
       "  </tbody>\n",
       "</table>\n",
       "</div>"
      ],
      "text/plain": [
       "                 시가         고가         저가         종가        거래량           거래대금\n",
       "날짜                                                                            \n",
       "20020116  89.930000  90.690002  88.989998  88.989998  389746200  2533905000000\n",
       "20020117  88.019997  89.650002  87.370003  89.269997  554645100  3141845000000\n",
       "20020118  89.180000  89.900002  88.190002  88.629997  391938000  2620233000000\n",
       "20020121  88.129997  89.720001  87.629997  89.720001  360377600  2090446000000\n",
       "20020122  90.250000  91.510002  89.709999  90.639999  520790500  2822430000000"
      ]
     },
     "execution_count": 24,
     "metadata": {},
     "output_type": "execute_result"
    }
   ],
   "source": [
    "k200.head()"
   ]
  },
  {
   "cell_type": "code",
   "execution_count": 25,
   "metadata": {},
   "outputs": [],
   "source": [
    "cols = {\n",
    "    '시가': 'open',\n",
    "    '고가': 'high',\n",
    "    '저가': 'low',\n",
    "    '종가': 'close',\n",
    "    '거래량': 'volume',\n",
    "    '거래대금': 'value'\n",
    "}"
   ]
  },
  {
   "cell_type": "code",
   "execution_count": 27,
   "metadata": {},
   "outputs": [
    {
     "data": {
      "text/html": [
       "<div>\n",
       "<style scoped>\n",
       "    .dataframe tbody tr th:only-of-type {\n",
       "        vertical-align: middle;\n",
       "    }\n",
       "\n",
       "    .dataframe tbody tr th {\n",
       "        vertical-align: top;\n",
       "    }\n",
       "\n",
       "    .dataframe thead th {\n",
       "        text-align: right;\n",
       "    }\n",
       "</style>\n",
       "<table border=\"1\" class=\"dataframe\">\n",
       "  <thead>\n",
       "    <tr style=\"text-align: right;\">\n",
       "      <th></th>\n",
       "      <th>open</th>\n",
       "      <th>high</th>\n",
       "      <th>low</th>\n",
       "      <th>close</th>\n",
       "      <th>volume</th>\n",
       "      <th>value</th>\n",
       "    </tr>\n",
       "    <tr>\n",
       "      <th>날짜</th>\n",
       "      <th></th>\n",
       "      <th></th>\n",
       "      <th></th>\n",
       "      <th></th>\n",
       "      <th></th>\n",
       "      <th></th>\n",
       "    </tr>\n",
       "  </thead>\n",
       "  <tbody>\n",
       "    <tr>\n",
       "      <th>20020116</th>\n",
       "      <td>89.930000</td>\n",
       "      <td>90.690002</td>\n",
       "      <td>88.989998</td>\n",
       "      <td>88.989998</td>\n",
       "      <td>389746200</td>\n",
       "      <td>2533905000000</td>\n",
       "    </tr>\n",
       "    <tr>\n",
       "      <th>20020117</th>\n",
       "      <td>88.019997</td>\n",
       "      <td>89.650002</td>\n",
       "      <td>87.370003</td>\n",
       "      <td>89.269997</td>\n",
       "      <td>554645100</td>\n",
       "      <td>3141845000000</td>\n",
       "    </tr>\n",
       "    <tr>\n",
       "      <th>20020118</th>\n",
       "      <td>89.180000</td>\n",
       "      <td>89.900002</td>\n",
       "      <td>88.190002</td>\n",
       "      <td>88.629997</td>\n",
       "      <td>391938000</td>\n",
       "      <td>2620233000000</td>\n",
       "    </tr>\n",
       "    <tr>\n",
       "      <th>20020121</th>\n",
       "      <td>88.129997</td>\n",
       "      <td>89.720001</td>\n",
       "      <td>87.629997</td>\n",
       "      <td>89.720001</td>\n",
       "      <td>360377600</td>\n",
       "      <td>2090446000000</td>\n",
       "    </tr>\n",
       "    <tr>\n",
       "      <th>20020122</th>\n",
       "      <td>90.250000</td>\n",
       "      <td>91.510002</td>\n",
       "      <td>89.709999</td>\n",
       "      <td>90.639999</td>\n",
       "      <td>520790500</td>\n",
       "      <td>2822430000000</td>\n",
       "    </tr>\n",
       "    <tr>\n",
       "      <th>...</th>\n",
       "      <td>...</td>\n",
       "      <td>...</td>\n",
       "      <td>...</td>\n",
       "      <td>...</td>\n",
       "      <td>...</td>\n",
       "      <td>...</td>\n",
       "    </tr>\n",
       "    <tr>\n",
       "      <th>20220404</th>\n",
       "      <td>361.850006</td>\n",
       "      <td>365.079987</td>\n",
       "      <td>360.690002</td>\n",
       "      <td>364.940002</td>\n",
       "      <td>171554100</td>\n",
       "      <td>5298140000000</td>\n",
       "    </tr>\n",
       "    <tr>\n",
       "      <th>20220405</th>\n",
       "      <td>366.079987</td>\n",
       "      <td>366.670013</td>\n",
       "      <td>363.670013</td>\n",
       "      <td>364.739990</td>\n",
       "      <td>244226300</td>\n",
       "      <td>5262759000000</td>\n",
       "    </tr>\n",
       "    <tr>\n",
       "      <th>20220406</th>\n",
       "      <td>362.040009</td>\n",
       "      <td>362.959991</td>\n",
       "      <td>360.519989</td>\n",
       "      <td>361.010010</td>\n",
       "      <td>176510200</td>\n",
       "      <td>6512786000000</td>\n",
       "    </tr>\n",
       "    <tr>\n",
       "      <th>20220407</th>\n",
       "      <td>358.429993</td>\n",
       "      <td>358.920013</td>\n",
       "      <td>355.369995</td>\n",
       "      <td>355.730011</td>\n",
       "      <td>193937400</td>\n",
       "      <td>7704972000000</td>\n",
       "    </tr>\n",
       "    <tr>\n",
       "      <th>20220408</th>\n",
       "      <td>356.859985</td>\n",
       "      <td>357.619995</td>\n",
       "      <td>354.269989</td>\n",
       "      <td>356.010010</td>\n",
       "      <td>166111900</td>\n",
       "      <td>6737531000000</td>\n",
       "    </tr>\n",
       "  </tbody>\n",
       "</table>\n",
       "<p>5000 rows × 6 columns</p>\n",
       "</div>"
      ],
      "text/plain": [
       "                open        high         low       close     volume  \\\n",
       "날짜                                                                    \n",
       "20020116   89.930000   90.690002   88.989998   88.989998  389746200   \n",
       "20020117   88.019997   89.650002   87.370003   89.269997  554645100   \n",
       "20020118   89.180000   89.900002   88.190002   88.629997  391938000   \n",
       "20020121   88.129997   89.720001   87.629997   89.720001  360377600   \n",
       "20020122   90.250000   91.510002   89.709999   90.639999  520790500   \n",
       "...              ...         ...         ...         ...        ...   \n",
       "20220404  361.850006  365.079987  360.690002  364.940002  171554100   \n",
       "20220405  366.079987  366.670013  363.670013  364.739990  244226300   \n",
       "20220406  362.040009  362.959991  360.519989  361.010010  176510200   \n",
       "20220407  358.429993  358.920013  355.369995  355.730011  193937400   \n",
       "20220408  356.859985  357.619995  354.269989  356.010010  166111900   \n",
       "\n",
       "                  value  \n",
       "날짜                       \n",
       "20020116  2533905000000  \n",
       "20020117  3141845000000  \n",
       "20020118  2620233000000  \n",
       "20020121  2090446000000  \n",
       "20020122  2822430000000  \n",
       "...                 ...  \n",
       "20220404  5298140000000  \n",
       "20220405  5262759000000  \n",
       "20220406  6512786000000  \n",
       "20220407  7704972000000  \n",
       "20220408  6737531000000  \n",
       "\n",
       "[5000 rows x 6 columns]"
      ]
     },
     "execution_count": 27,
     "metadata": {},
     "output_type": "execute_result"
    }
   ],
   "source": [
    "k200.rename(columns=cols)"
   ]
  },
  {
   "cell_type": "code",
   "execution_count": 29,
   "metadata": {},
   "outputs": [
    {
     "data": {
      "text/plain": [
       "<AxesSubplot:xlabel='날짜'>"
      ]
     },
     "execution_count": 29,
     "metadata": {},
     "output_type": "execute_result"
    },
    {
     "name": "stderr",
     "output_type": "stream",
     "text": [
      "/Users/kimyoungh/miniforge3/envs/pytorch_m1/lib/python3.8/site-packages/IPython/core/pylabtools.py:151: UserWarning: Glyph 45216 (\\N{HANGUL SYLLABLE NAL}) missing from current font.\n",
      "  fig.canvas.print_figure(bytes_io, **kw)\n",
      "/Users/kimyoungh/miniforge3/envs/pytorch_m1/lib/python3.8/site-packages/IPython/core/pylabtools.py:151: UserWarning: Glyph 51676 (\\N{HANGUL SYLLABLE JJA}) missing from current font.\n",
      "  fig.canvas.print_figure(bytes_io, **kw)\n"
     ]
    },
    {
     "data": {
      "image/png": "[encoded data removed]",
      "text/plain": [
       "<Figure size 432x288 with 1 Axes>"
      ]
     },
     "metadata": {
      "needs_background": "light"
     },
     "output_type": "display_data"
    }
   ],
   "source": [
    "(k200['거래대금'] > kq['거래대금']).astype(int).plot()"
   ]
  },
  {
   "cell_type": "code",
   "execution_count": 31,
   "metadata": {},
   "outputs": [],
   "source": [
    "k200 = k200.rename(columns=cols)"
   ]
  },
  {
   "cell_type": "code",
   "execution_count": 33,
   "metadata": {},
   "outputs": [],
   "source": [
    "kq = kq.rename(columns=cols)"
   ]
  },
  {
   "cell_type": "code",
   "execution_count": 35,
   "metadata": {},
   "outputs": [],
   "source": [
    "k200 = k200[['open', 'high', 'low', 'close', 'value']]\n",
    "kq = kq[['open', 'high', 'low', 'close', 'value']]"
   ]
  },
  {
   "cell_type": "code",
   "execution_count": 40,
   "metadata": {},
   "outputs": [],
   "source": [
    "cols_s = k200.columns.values.tolist()"
   ]
  },
  {
   "cell_type": "code",
   "execution_count": 42,
   "metadata": {},
   "outputs": [
    {
     "data": {
      "text/html": [
       "<div>\n",
       "<style scoped>\n",
       "    .dataframe tbody tr th:only-of-type {\n",
       "        vertical-align: middle;\n",
       "    }\n",
       "\n",
       "    .dataframe tbody tr th {\n",
       "        vertical-align: top;\n",
       "    }\n",
       "\n",
       "    .dataframe thead th {\n",
       "        text-align: right;\n",
       "    }\n",
       "</style>\n",
       "<table border=\"1\" class=\"dataframe\">\n",
       "  <thead>\n",
       "    <tr style=\"text-align: right;\">\n",
       "      <th></th>\n",
       "      <th>open</th>\n",
       "      <th>high</th>\n",
       "      <th>low</th>\n",
       "      <th>close</th>\n",
       "      <th>value</th>\n",
       "      <th>open</th>\n",
       "      <th>high</th>\n",
       "      <th>low</th>\n",
       "      <th>close</th>\n",
       "      <th>value</th>\n",
       "    </tr>\n",
       "    <tr>\n",
       "      <th>날짜</th>\n",
       "      <th></th>\n",
       "      <th></th>\n",
       "      <th></th>\n",
       "      <th></th>\n",
       "      <th></th>\n",
       "      <th></th>\n",
       "      <th></th>\n",
       "      <th></th>\n",
       "      <th></th>\n",
       "      <th></th>\n",
       "    </tr>\n",
       "  </thead>\n",
       "  <tbody>\n",
       "    <tr>\n",
       "      <th>20020116</th>\n",
       "      <td>89.930000</td>\n",
       "      <td>90.690002</td>\n",
       "      <td>88.989998</td>\n",
       "      <td>88.989998</td>\n",
       "      <td>2533905000000</td>\n",
       "      <td>89.930000</td>\n",
       "      <td>90.690002</td>\n",
       "      <td>88.989998</td>\n",
       "      <td>88.989998</td>\n",
       "      <td>2533905000000</td>\n",
       "    </tr>\n",
       "    <tr>\n",
       "      <th>20020117</th>\n",
       "      <td>88.019997</td>\n",
       "      <td>89.650002</td>\n",
       "      <td>87.370003</td>\n",
       "      <td>89.269997</td>\n",
       "      <td>3141845000000</td>\n",
       "      <td>88.019997</td>\n",
       "      <td>89.650002</td>\n",
       "      <td>87.370003</td>\n",
       "      <td>89.269997</td>\n",
       "      <td>3141845000000</td>\n",
       "    </tr>\n",
       "    <tr>\n",
       "      <th>20020118</th>\n",
       "      <td>89.180000</td>\n",
       "      <td>89.900002</td>\n",
       "      <td>88.190002</td>\n",
       "      <td>88.629997</td>\n",
       "      <td>2620233000000</td>\n",
       "      <td>89.180000</td>\n",
       "      <td>89.900002</td>\n",
       "      <td>88.190002</td>\n",
       "      <td>88.629997</td>\n",
       "      <td>2620233000000</td>\n",
       "    </tr>\n",
       "    <tr>\n",
       "      <th>20020121</th>\n",
       "      <td>88.129997</td>\n",
       "      <td>89.720001</td>\n",
       "      <td>87.629997</td>\n",
       "      <td>89.720001</td>\n",
       "      <td>2090446000000</td>\n",
       "      <td>88.129997</td>\n",
       "      <td>89.720001</td>\n",
       "      <td>87.629997</td>\n",
       "      <td>89.720001</td>\n",
       "      <td>2090446000000</td>\n",
       "    </tr>\n",
       "    <tr>\n",
       "      <th>20020122</th>\n",
       "      <td>90.250000</td>\n",
       "      <td>91.510002</td>\n",
       "      <td>89.709999</td>\n",
       "      <td>90.639999</td>\n",
       "      <td>2822430000000</td>\n",
       "      <td>90.250000</td>\n",
       "      <td>91.510002</td>\n",
       "      <td>89.709999</td>\n",
       "      <td>90.639999</td>\n",
       "      <td>2822430000000</td>\n",
       "    </tr>\n",
       "    <tr>\n",
       "      <th>...</th>\n",
       "      <td>...</td>\n",
       "      <td>...</td>\n",
       "      <td>...</td>\n",
       "      <td>...</td>\n",
       "      <td>...</td>\n",
       "      <td>...</td>\n",
       "      <td>...</td>\n",
       "      <td>...</td>\n",
       "      <td>...</td>\n",
       "      <td>...</td>\n",
       "    </tr>\n",
       "    <tr>\n",
       "      <th>20220404</th>\n",
       "      <td>361.850006</td>\n",
       "      <td>365.079987</td>\n",
       "      <td>360.690002</td>\n",
       "      <td>364.940002</td>\n",
       "      <td>5298140000000</td>\n",
       "      <td>361.850006</td>\n",
       "      <td>365.079987</td>\n",
       "      <td>360.690002</td>\n",
       "      <td>364.940002</td>\n",
       "      <td>5298140000000</td>\n",
       "    </tr>\n",
       "    <tr>\n",
       "      <th>20220405</th>\n",
       "      <td>366.079987</td>\n",
       "      <td>366.670013</td>\n",
       "      <td>363.670013</td>\n",
       "      <td>364.739990</td>\n",
       "      <td>5262759000000</td>\n",
       "      <td>366.079987</td>\n",
       "      <td>366.670013</td>\n",
       "      <td>363.670013</td>\n",
       "      <td>364.739990</td>\n",
       "      <td>5262759000000</td>\n",
       "    </tr>\n",
       "    <tr>\n",
       "      <th>20220406</th>\n",
       "      <td>362.040009</td>\n",
       "      <td>362.959991</td>\n",
       "      <td>360.519989</td>\n",
       "      <td>361.010010</td>\n",
       "      <td>6512786000000</td>\n",
       "      <td>362.040009</td>\n",
       "      <td>362.959991</td>\n",
       "      <td>360.519989</td>\n",
       "      <td>361.010010</td>\n",
       "      <td>6512786000000</td>\n",
       "    </tr>\n",
       "    <tr>\n",
       "      <th>20220407</th>\n",
       "      <td>358.429993</td>\n",
       "      <td>358.920013</td>\n",
       "      <td>355.369995</td>\n",
       "      <td>355.730011</td>\n",
       "      <td>7704972000000</td>\n",
       "      <td>358.429993</td>\n",
       "      <td>358.920013</td>\n",
       "      <td>355.369995</td>\n",
       "      <td>355.730011</td>\n",
       "      <td>7704972000000</td>\n",
       "    </tr>\n",
       "    <tr>\n",
       "      <th>20220408</th>\n",
       "      <td>356.859985</td>\n",
       "      <td>357.619995</td>\n",
       "      <td>354.269989</td>\n",
       "      <td>356.010010</td>\n",
       "      <td>6737531000000</td>\n",
       "      <td>356.859985</td>\n",
       "      <td>357.619995</td>\n",
       "      <td>354.269989</td>\n",
       "      <td>356.010010</td>\n",
       "      <td>6737531000000</td>\n",
       "    </tr>\n",
       "  </tbody>\n",
       "</table>\n",
       "<p>5000 rows × 10 columns</p>\n",
       "</div>"
      ],
      "text/plain": [
       "                open        high         low       close          value  \\\n",
       "날짜                                                                        \n",
       "20020116   89.930000   90.690002   88.989998   88.989998  2533905000000   \n",
       "20020117   88.019997   89.650002   87.370003   89.269997  3141845000000   \n",
       "20020118   89.180000   89.900002   88.190002   88.629997  2620233000000   \n",
       "20020121   88.129997   89.720001   87.629997   89.720001  2090446000000   \n",
       "20020122   90.250000   91.510002   89.709999   90.639999  2822430000000   \n",
       "...              ...         ...         ...         ...            ...   \n",
       "20220404  361.850006  365.079987  360.690002  364.940002  5298140000000   \n",
       "20220405  366.079987  366.670013  363.670013  364.739990  5262759000000   \n",
       "20220406  362.040009  362.959991  360.519989  361.010010  6512786000000   \n",
       "20220407  358.429993  358.920013  355.369995  355.730011  7704972000000   \n",
       "20220408  356.859985  357.619995  354.269989  356.010010  6737531000000   \n",
       "\n",
       "                open        high         low       close          value  \n",
       "날짜                                                                       \n",
       "20020116   89.930000   90.690002   88.989998   88.989998  2533905000000  \n",
       "20020117   88.019997   89.650002   87.370003   89.269997  3141845000000  \n",
       "20020118   89.180000   89.900002   88.190002   88.629997  2620233000000  \n",
       "20020121   88.129997   89.720001   87.629997   89.720001  2090446000000  \n",
       "20020122   90.250000   91.510002   89.709999   90.639999  2822430000000  \n",
       "...              ...         ...         ...         ...            ...  \n",
       "20220404  361.850006  365.079987  360.690002  364.940002  5298140000000  \n",
       "20220405  366.079987  366.670013  363.670013  364.739990  5262759000000  \n",
       "20220406  362.040009  362.959991  360.519989  361.010010  6512786000000  \n",
       "20220407  358.429993  358.920013  355.369995  355.730011  7704972000000  \n",
       "20220408  356.859985  357.619995  354.269989  356.010010  6737531000000  \n",
       "\n",
       "[5000 rows x 10 columns]"
      ]
     },
     "execution_count": 42,
     "metadata": {},
     "output_type": "execute_result"
    }
   ],
   "source": [
    "k200[cols_s + cols_s]"
   ]
  },
  {
   "cell_type": "code",
   "execution_count": 61,
   "metadata": {},
   "outputs": [],
   "source": [
    "eps = 1e-6\n",
    "k200_p = pd.DataFrame(np.zeros_like(k200),\n",
    "                    index=k200.index, columns=k200.columns)\n",
    "kmin_p = np.log(k200 + eps).iloc[:, :4].min().min()\n",
    "kmax_p = np.log(k200 + eps).iloc[:, :4].max().max()\n",
    "k200_p.iloc[:, :4] = (np.log(k200 + eps).iloc[:, :4] - kmin_p) / (kmax_p - kmin_p)\n",
    "\n",
    "kvmin_p = np.log(k200 + eps).iloc[:, 4].min()\n",
    "kvmax_p = np.log(k200 + eps).iloc[:, 4].max()\n",
    "k200_p.iloc[:, 4] = (np.log(k200 + eps).iloc[:, 4] - kvmin_p) / (kvmax_p - kvmin_p)\n",
    "\n",
    "k200_l = np.log(k200 + eps)\n",
    "k200_l = k200_l.diff(1)\n",
    "\n",
    "kmin_lp = k200_l.iloc[:, :4].min().min()\n",
    "kmax_lp = k200_l.iloc[:, :4].max().max()\n",
    "k200_lp = pd.DataFrame(np.zeros_like(k200),\n",
    "                    index=k200.index, columns=k200.columns)\n",
    "k200_lp.iloc[:, :4] = (k200_l.iloc[:, :4] - kmin_lp) / (kmax_lp - kmin_lp)\n",
    "\n",
    "kvmin_lp = k200_l.iloc[:, 4].min()\n",
    "kvmax_lp = k200_l.iloc[:, 4].max()\n",
    "k200_lp.iloc[:, 4] = (k200_l.iloc[:, 4] - kvmin_lp) / (kvmax_lp - kvmin_lp)\n"
   ]
  },
  {
   "cell_type": "code",
   "execution_count": 62,
   "metadata": {},
   "outputs": [
    {
     "data": {
      "text/html": [
       "<div>\n",
       "<style scoped>\n",
       "    .dataframe tbody tr th:only-of-type {\n",
       "        vertical-align: middle;\n",
       "    }\n",
       "\n",
       "    .dataframe tbody tr th {\n",
       "        vertical-align: top;\n",
       "    }\n",
       "\n",
       "    .dataframe thead th {\n",
       "        text-align: right;\n",
       "    }\n",
       "</style>\n",
       "<table border=\"1\" class=\"dataframe\">\n",
       "  <thead>\n",
       "    <tr style=\"text-align: right;\">\n",
       "      <th></th>\n",
       "      <th>open</th>\n",
       "      <th>high</th>\n",
       "      <th>low</th>\n",
       "      <th>close</th>\n",
       "      <th>value</th>\n",
       "    </tr>\n",
       "    <tr>\n",
       "      <th>날짜</th>\n",
       "      <th></th>\n",
       "      <th></th>\n",
       "      <th></th>\n",
       "      <th></th>\n",
       "      <th></th>\n",
       "    </tr>\n",
       "  </thead>\n",
       "  <tbody>\n",
       "    <tr>\n",
       "      <th>20020116</th>\n",
       "      <td>0.166316</td>\n",
       "      <td>0.170679</td>\n",
       "      <td>0.160869</td>\n",
       "      <td>0.160869</td>\n",
       "      <td>0.316557</td>\n",
       "    </tr>\n",
       "    <tr>\n",
       "      <th>20020117</th>\n",
       "      <td>0.155187</td>\n",
       "      <td>0.164700</td>\n",
       "      <td>0.151344</td>\n",
       "      <td>0.162498</td>\n",
       "      <td>0.371166</td>\n",
       "    </tr>\n",
       "    <tr>\n",
       "      <th>20020118</th>\n",
       "      <td>0.161975</td>\n",
       "      <td>0.166144</td>\n",
       "      <td>0.156187</td>\n",
       "      <td>0.158767</td>\n",
       "      <td>0.325064</td>\n",
       "    </tr>\n",
       "    <tr>\n",
       "      <th>20020121</th>\n",
       "      <td>0.155834</td>\n",
       "      <td>0.165104</td>\n",
       "      <td>0.152885</td>\n",
       "      <td>0.165104</td>\n",
       "      <td>0.267703</td>\n",
       "    </tr>\n",
       "    <tr>\n",
       "      <th>20020122</th>\n",
       "      <td>0.168158</td>\n",
       "      <td>0.175346</td>\n",
       "      <td>0.165047</td>\n",
       "      <td>0.170393</td>\n",
       "      <td>0.343940</td>\n",
       "    </tr>\n",
       "    <tr>\n",
       "      <th>...</th>\n",
       "      <td>...</td>\n",
       "      <td>...</td>\n",
       "      <td>...</td>\n",
       "      <td>...</td>\n",
       "      <td>...</td>\n",
       "    </tr>\n",
       "    <tr>\n",
       "      <th>20220404</th>\n",
       "      <td>0.888079</td>\n",
       "      <td>0.892686</td>\n",
       "      <td>0.886415</td>\n",
       "      <td>0.892488</td>\n",
       "      <td>0.503860</td>\n",
       "    </tr>\n",
       "    <tr>\n",
       "      <th>20220405</th>\n",
       "      <td>0.894105</td>\n",
       "      <td>0.894940</td>\n",
       "      <td>0.890680</td>\n",
       "      <td>0.892203</td>\n",
       "      <td>0.502159</td>\n",
       "    </tr>\n",
       "    <tr>\n",
       "      <th>20220406</th>\n",
       "      <td>0.888351</td>\n",
       "      <td>0.889667</td>\n",
       "      <td>0.886170</td>\n",
       "      <td>0.886874</td>\n",
       "      <td>0.556276</td>\n",
       "    </tr>\n",
       "    <tr>\n",
       "      <th>20220407</th>\n",
       "      <td>0.883156</td>\n",
       "      <td>0.883864</td>\n",
       "      <td>0.878711</td>\n",
       "      <td>0.879236</td>\n",
       "      <td>0.598963</td>\n",
       "    </tr>\n",
       "    <tr>\n",
       "      <th>20220408</th>\n",
       "      <td>0.880880</td>\n",
       "      <td>0.881983</td>\n",
       "      <td>0.877104</td>\n",
       "      <td>0.879644</td>\n",
       "      <td>0.564891</td>\n",
       "    </tr>\n",
       "  </tbody>\n",
       "</table>\n",
       "<p>5000 rows × 5 columns</p>\n",
       "</div>"
      ],
      "text/plain": [
       "              open      high       low     close     value\n",
       "날짜                                                        \n",
       "20020116  0.166316  0.170679  0.160869  0.160869  0.316557\n",
       "20020117  0.155187  0.164700  0.151344  0.162498  0.371166\n",
       "20020118  0.161975  0.166144  0.156187  0.158767  0.325064\n",
       "20020121  0.155834  0.165104  0.152885  0.165104  0.267703\n",
       "20020122  0.168158  0.175346  0.165047  0.170393  0.343940\n",
       "...            ...       ...       ...       ...       ...\n",
       "20220404  0.888079  0.892686  0.886415  0.892488  0.503860\n",
       "20220405  0.894105  0.894940  0.890680  0.892203  0.502159\n",
       "20220406  0.888351  0.889667  0.886170  0.886874  0.556276\n",
       "20220407  0.883156  0.883864  0.878711  0.879236  0.598963\n",
       "20220408  0.880880  0.881983  0.877104  0.879644  0.564891\n",
       "\n",
       "[5000 rows x 5 columns]"
      ]
     },
     "execution_count": 62,
     "metadata": {},
     "output_type": "execute_result"
    }
   ],
   "source": [
    "k200_p"
   ]
  },
  {
   "cell_type": "code",
   "execution_count": 64,
   "metadata": {},
   "outputs": [
    {
     "data": {
      "text/plain": [
       "<AxesSubplot:xlabel='날짜'>"
      ]
     },
     "execution_count": 64,
     "metadata": {},
     "output_type": "execute_result"
    },
    {
     "name": "stderr",
     "output_type": "stream",
     "text": [
      "/Users/kimyoungh/miniforge3/envs/pytorch_m1/lib/python3.8/site-packages/IPython/core/pylabtools.py:151: UserWarning: Glyph 45216 (\\N{HANGUL SYLLABLE NAL}) missing from current font.\n",
      "  fig.canvas.print_figure(bytes_io, **kw)\n",
      "/Users/kimyoungh/miniforge3/envs/pytorch_m1/lib/python3.8/site-packages/IPython/core/pylabtools.py:151: UserWarning: Glyph 51676 (\\N{HANGUL SYLLABLE JJA}) missing from current font.\n",
      "  fig.canvas.print_figure(bytes_io, **kw)\n"
     ]
    },
    {
     "data": {
      "image/png": "[encoded data removed]",
      "text/plain": [
       "<Figure size 432x288 with 1 Axes>"
      ]
     },
     "metadata": {
      "needs_background": "light"
     },
     "output_type": "display_data"
    }
   ],
   "source": [
    "k200_p.plot()"
   ]
  },
  {
   "cell_type": "code",
   "execution_count": 63,
   "metadata": {},
   "outputs": [
    {
     "data": {
      "text/html": [
       "<div>\n",
       "<style scoped>\n",
       "    .dataframe tbody tr th:only-of-type {\n",
       "        vertical-align: middle;\n",
       "    }\n",
       "\n",
       "    .dataframe tbody tr th {\n",
       "        vertical-align: top;\n",
       "    }\n",
       "\n",
       "    .dataframe thead th {\n",
       "        text-align: right;\n",
       "    }\n",
       "</style>\n",
       "<table border=\"1\" class=\"dataframe\">\n",
       "  <thead>\n",
       "    <tr style=\"text-align: right;\">\n",
       "      <th></th>\n",
       "      <th>open</th>\n",
       "      <th>high</th>\n",
       "      <th>low</th>\n",
       "      <th>close</th>\n",
       "      <th>value</th>\n",
       "    </tr>\n",
       "    <tr>\n",
       "      <th>날짜</th>\n",
       "      <th></th>\n",
       "      <th></th>\n",
       "      <th></th>\n",
       "      <th></th>\n",
       "      <th></th>\n",
       "    </tr>\n",
       "  </thead>\n",
       "  <tbody>\n",
       "    <tr>\n",
       "      <th>20020116</th>\n",
       "      <td>NaN</td>\n",
       "      <td>NaN</td>\n",
       "      <td>NaN</td>\n",
       "      <td>NaN</td>\n",
       "      <td>NaN</td>\n",
       "    </tr>\n",
       "    <tr>\n",
       "      <th>20020117</th>\n",
       "      <td>0.368277</td>\n",
       "      <td>0.409957</td>\n",
       "      <td>0.381265</td>\n",
       "      <td>0.471533</td>\n",
       "      <td>0.565801</td>\n",
       "    </tr>\n",
       "    <tr>\n",
       "      <th>20020118</th>\n",
       "      <td>0.513288</td>\n",
       "      <td>0.470037</td>\n",
       "      <td>0.497548</td>\n",
       "      <td>0.428162</td>\n",
       "      <td>0.333060</td>\n",
       "    </tr>\n",
       "    <tr>\n",
       "      <th>20020121</th>\n",
       "      <td>0.408657</td>\n",
       "      <td>0.449943</td>\n",
       "      <td>0.431623</td>\n",
       "      <td>0.509640</td>\n",
       "      <td>0.307040</td>\n",
       "    </tr>\n",
       "    <tr>\n",
       "      <th>20020122</th>\n",
       "      <td>0.558091</td>\n",
       "      <td>0.541240</td>\n",
       "      <td>0.556783</td>\n",
       "      <td>0.501158</td>\n",
       "      <td>0.615784</td>\n",
       "    </tr>\n",
       "    <tr>\n",
       "      <th>...</th>\n",
       "      <td>...</td>\n",
       "      <td>...</td>\n",
       "      <td>...</td>\n",
       "      <td>...</td>\n",
       "      <td>...</td>\n",
       "    </tr>\n",
       "    <tr>\n",
       "      <th>20220404</th>\n",
       "      <td>0.433841</td>\n",
       "      <td>0.469630</td>\n",
       "      <td>0.448476</td>\n",
       "      <td>0.478521</td>\n",
       "      <td>0.259875</td>\n",
       "    </tr>\n",
       "    <tr>\n",
       "      <th>20220405</th>\n",
       "      <td>0.507117</td>\n",
       "      <td>0.476587</td>\n",
       "      <td>0.492876</td>\n",
       "      <td>0.456052</td>\n",
       "      <td>0.435668</td>\n",
       "    </tr>\n",
       "    <tr>\n",
       "      <th>20220406</th>\n",
       "      <td>0.411790</td>\n",
       "      <td>0.415681</td>\n",
       "      <td>0.421850</td>\n",
       "      <td>0.415222</td>\n",
       "      <td>0.564664</td>\n",
       "    </tr>\n",
       "    <tr>\n",
       "      <th>20220407</th>\n",
       "      <td>0.416304</td>\n",
       "      <td>0.411387</td>\n",
       "      <td>0.397982</td>\n",
       "      <td>0.396531</td>\n",
       "      <td>0.538248</td>\n",
       "    </tr>\n",
       "    <tr>\n",
       "      <th>20220408</th>\n",
       "      <td>0.439933</td>\n",
       "      <td>0.443127</td>\n",
       "      <td>0.445344</td>\n",
       "      <td>0.461653</td>\n",
       "      <td>0.360862</td>\n",
       "    </tr>\n",
       "  </tbody>\n",
       "</table>\n",
       "<p>5000 rows × 5 columns</p>\n",
       "</div>"
      ],
      "text/plain": [
       "              open      high       low     close     value\n",
       "날짜                                                        \n",
       "20020116       NaN       NaN       NaN       NaN       NaN\n",
       "20020117  0.368277  0.409957  0.381265  0.471533  0.565801\n",
       "20020118  0.513288  0.470037  0.497548  0.428162  0.333060\n",
       "20020121  0.408657  0.449943  0.431623  0.509640  0.307040\n",
       "20020122  0.558091  0.541240  0.556783  0.501158  0.615784\n",
       "...            ...       ...       ...       ...       ...\n",
       "20220404  0.433841  0.469630  0.448476  0.478521  0.259875\n",
       "20220405  0.507117  0.476587  0.492876  0.456052  0.435668\n",
       "20220406  0.411790  0.415681  0.421850  0.415222  0.564664\n",
       "20220407  0.416304  0.411387  0.397982  0.396531  0.538248\n",
       "20220408  0.439933  0.443127  0.445344  0.461653  0.360862\n",
       "\n",
       "[5000 rows x 5 columns]"
      ]
     },
     "execution_count": 63,
     "metadata": {},
     "output_type": "execute_result"
    }
   ],
   "source": [
    "k200_lp"
   ]
  },
  {
   "cell_type": "code",
   "execution_count": 65,
   "metadata": {},
   "outputs": [
    {
     "data": {
      "text/plain": [
       "<AxesSubplot:xlabel='날짜'>"
      ]
     },
     "execution_count": 65,
     "metadata": {},
     "output_type": "execute_result"
    },
    {
     "name": "stderr",
     "output_type": "stream",
     "text": [
      "/Users/kimyoungh/miniforge3/envs/pytorch_m1/lib/python3.8/site-packages/IPython/core/pylabtools.py:151: UserWarning: Glyph 45216 (\\N{HANGUL SYLLABLE NAL}) missing from current font.\n",
      "  fig.canvas.print_figure(bytes_io, **kw)\n",
      "/Users/kimyoungh/miniforge3/envs/pytorch_m1/lib/python3.8/site-packages/IPython/core/pylabtools.py:151: UserWarning: Glyph 51676 (\\N{HANGUL SYLLABLE JJA}) missing from current font.\n",
      "  fig.canvas.print_figure(bytes_io, **kw)\n"
     ]
    },
    {
     "data": {
      "image/png": "[encoded data removed]",
      "text/plain": [
       "<Figure size 432x288 with 1 Axes>"
      ]
     },
     "metadata": {
      "needs_background": "light"
     },
     "output_type": "display_data"
    }
   ],
   "source": [
    "k200_lp.plot()"
   ]
  },
  {
   "cell_type": "code",
   "execution_count": 70,
   "metadata": {},
   "outputs": [
    {
     "data": {
      "text/plain": [
       "<AxesSubplot:xlabel='날짜'>"
      ]
     },
     "execution_count": 70,
     "metadata": {},
     "output_type": "execute_result"
    },
    {
     "name": "stderr",
     "output_type": "stream",
     "text": [
      "/Users/kimyoungh/miniforge3/envs/pytorch_m1/lib/python3.8/site-packages/IPython/core/pylabtools.py:151: UserWarning: Glyph 45216 (\\N{HANGUL SYLLABLE NAL}) missing from current font.\n",
      "  fig.canvas.print_figure(bytes_io, **kw)\n",
      "/Users/kimyoungh/miniforge3/envs/pytorch_m1/lib/python3.8/site-packages/IPython/core/pylabtools.py:151: UserWarning: Glyph 51676 (\\N{HANGUL SYLLABLE JJA}) missing from current font.\n",
      "  fig.canvas.print_figure(bytes_io, **kw)\n"
     ]
    },
    {
     "data": {
      "image/png": "[encoded data removed]",
      "text/plain": [
       "<Figure size 432x288 with 1 Axes>"
      ]
     },
     "metadata": {
      "needs_background": "light"
     },
     "output_type": "display_data"
    }
   ],
   "source": [
    "k200.iloc[:, :4].plot()"
   ]
  },
  {
   "cell_type": "code",
   "execution_count": null,
   "metadata": {},
   "outputs": [],
   "source": []
  }
 ],
 "metadata": {
  "interpreter": {
   "hash": "5b193160d7cc1e01522e5642bc36993162f6c79445953eacfe5d439a85308880"
  },
  "kernelspec": {
   "display_name": "Python 3.8.12 ('pytorch_m1')",
   "language": "python",
   "name": "python3"
  },
  "language_info": {
   "codemirror_mode": {
    "name": "ipython",
    "version": 3
   },
   "file_extension": ".py",
   "mimetype": "text/x-python",
   "name": "python",
   "nbconvert_exporter": "python",
   "pygments_lexer": "ipython3",
   "version": "3.8.12"
  },
  "orig_nbformat": 4
 },
 "nbformat": 4,
 "nbformat_minor": 2
}
